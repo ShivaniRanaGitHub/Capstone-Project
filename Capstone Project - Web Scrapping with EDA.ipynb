{
 "cells": [
  {
   "cell_type": "code",
   "execution_count": 38,
   "metadata": {},
   "outputs": [],
   "source": [
    "# 1st Capstone Project\n",
    "# Web Scraping Project\n",
    "# I have select HP store website because I am using office laptop. Ecommere websites are restricted.\n",
    "# URL : https://store.hp.com/in-en/default/laptops-tablets/personal-laptops/student-laptops.html\n",
    "# Problem Statement: My Project Goal is by using Web scrapping with Python to find out the\n",
    "# best laptop for student by considering key factors like budget amount, processor, OS.  \n",
    "\n",
    "import requests  # Requests is a Python HTTP library, allows you to send HTTP requests.\n",
    "import pandas as pd   # For data manipulation and analysis.\n",
    "from bs4 import BeautifulSoup  # for pulling data out of HTML and XML files. \n",
    "\n",
    "import matplotlib.pyplot as plt   # keeps track of the current figure and plotting\n",
    "import seaborn as sns              # used for visualize\n",
    "%matplotlib inline                  # Visaulization\n"
   ]
  },
  {
   "cell_type": "code",
   "execution_count": 2,
   "metadata": {},
   "outputs": [],
   "source": [
    "# The data that we extract is unstructured data. So we’ll create empty lists to store them in a structured form.\n",
    "name=[] #List to store name of the product\n",
    "prices=[] #List to store price of the product\n",
    "ratings=[] #List to store rating of the product\n",
    "df=pd.DataFrame()\n"
   ]
  },
  {
   "cell_type": "code",
   "execution_count": 3,
   "metadata": {},
   "outputs": [],
   "source": [
    "# Step1 : Find the URL that you want to scrape\n",
    "# For this example, we are going to scrape the hp website to extract the Name, Price... of laptops. \n",
    "# The URL for this page is HP store.\n",
    "url=\"https://store.hp.com/in-en/default/laptops-tablets/personal-laptops/student-laptops.html\"\n"
   ]
  },
  {
   "cell_type": "code",
   "execution_count": 4,
   "metadata": {},
   "outputs": [],
   "source": [
    "page=requests.get(url)\n",
    "html=page.content"
   ]
  },
  {
   "cell_type": "code",
   "execution_count": 5,
   "metadata": {},
   "outputs": [],
   "source": [
    "response=requests.get(url)"
   ]
  },
  {
   "cell_type": "code",
   "execution_count": 6,
   "metadata": {},
   "outputs": [
    {
     "data": {
      "text/plain": [
       "<Response [200]>"
      ]
     },
     "execution_count": 6,
     "metadata": {},
     "output_type": "execute_result"
    }
   ],
   "source": [
    "response"
   ]
  },
  {
   "cell_type": "code",
   "execution_count": 7,
   "metadata": {},
   "outputs": [],
   "source": [
    "# Step2:Inspecting the page\n",
    "\n",
    "soup=BeautifulSoup(response.text,\"html.parser\")"
   ]
  },
  {
   "cell_type": "code",
   "execution_count": 8,
   "metadata": {},
   "outputs": [],
   "source": [
    "main_box=soup.find_all(\"div\",{\"class\":\"product details product-item-details\"})"
   ]
  },
  {
   "cell_type": "code",
   "execution_count": 9,
   "metadata": {},
   "outputs": [
    {
     "data": {
      "text/plain": [
       "12"
      ]
     },
     "execution_count": 9,
     "metadata": {},
     "output_type": "execute_result"
    }
   ],
   "source": [
    "len(main_box)"
   ]
  },
  {
   "cell_type": "code",
   "execution_count": 10,
   "metadata": {},
   "outputs": [],
   "source": [
    "box=main_box[0]"
   ]
  },
  {
   "cell_type": "code",
   "execution_count": 11,
   "metadata": {
    "scrolled": true
   },
   "outputs": [
    {
     "data": {
      "text/plain": [
       "<div class=\"product details product-item-details\">\n",
       "<div class=\"product-reviews\" data-bv-average-overall-rating=\"2.0000\">\n",
       "<div class=\"bv_reviews\" data-bv-product-id=\"242D3PA\" data-bv-productid=\"242D3PA\" data-bv-redirect-url=\"https://store.hp.com/in-en/default/laptops/personal-laptops/student-laptops/hp-laptop-pc-15-da3001tu-242d3pa.html#bv_reviews\" data-bv-show=\"inline_rating\"></div> </div>\n",
       "<strong class=\"product name product-item-name\">\n",
       "<a class=\"product-item-link\" href=\"https://store.hp.com/in-en/default/laptops/personal-laptops/student-laptops/hp-laptop-pc-15-da3001tu-242d3pa.html\">\n",
       "                                HP Laptop 15-da3001TU                            </a>\n",
       "</strong>\n",
       "<div style=\"clear: both;\"></div>\n",
       "<!--<div class=\"product-short-desc\">\n",
       "                                                    </div>-->\n",
       "<div class=\"product-desc-features\">\n",
       "<ul>\n",
       "<li class=\"processorfamily\">10th Generation Intel® Core™ i3 processor</li>\n",
       "<li class=\"osinstalled\">Windows 10 Home 64</li>\n",
       "<li class=\"display-displaydes\">39.62 cm(15.6\") diagonal, FHD (1920 x 1080), anti-glare, 220 nits, 45% NTSC</li>\n",
       "<li class=\"graphicseg_01card_01-graphicseg_02card_01\">Intel® UHD Graphics</li>\n",
       "<li class=\"memstdes_01\">4 GB DDR4-2666 SDRAM (1 x 4 GB)</li>\n",
       "<li class=\"weightmet\">Starting at 1.85 kg</li>\n",
       "</ul> </div>\n",
       "<div class=\"product product-included included\">\n",
       "<strong>Included:</strong>\n",
       "<ul class=\"included\">\n",
       "<li>1 Year On-site Warranty</li>\n",
       "<li>Microsoft Office 2019</li>\n",
       "<li>HP Entry Bag (1D0M5PA)</li>\n",
       "</ul>\n",
       "</div>\n",
       "<div class=\"product-item-inner\" data-sku=\"242D3PA\">\n",
       "<div class=\"product actions product-item-actions\">\n",
       "<div class=\"actions-primary\">\n",
       "<div class=\"price-box\">\n",
       "<div class=\"price-inner\">\n",
       "<div class=\"price-title\">Starting from</div>\n",
       "<div class=\"prices\">\n",
       "<div class=\"suggest-retail-price\">\n",
       "<span class=\"price\">₹35,212</span> </div>\n",
       "<div class=\"price-box price-final_price\" data-price-box=\"product-id-10696\" data-product-id=\"10696\" data-role=\"priceBox\">\n",
       "<span class=\"price-container price-final_price tax weee\">\n",
       "<span class=\"price-wrapper\" data-price-amount=\"34649\" data-price-type=\"finalPrice\" id=\"product-price-10696\"> <span class=\"price\">₹34,649</span> </span>\n",
       "<span class=\"price-tax-copy\">(incl. of all taxes)</span>\n",
       "</span>\n",
       "</div> </div>\n",
       "</div>\n",
       "<div class=\"mrp discount mrp-discount\">\n",
       "<span class=\"price-label-title\">You Save: </span><span class=\"price\">₹563</span> (2%)                                                                                            </div>\n",
       "<div class=\"product-promotion-message\">\n",
       "</div>\n",
       "<div class=\"promotion-message-secondly\">\n",
       "</div>\n",
       "</div>\n",
       "<div class=\"stock-messaging in-stock-messaging\">\n",
       "<span>In Stock</span>\n",
       "</div>\n",
       "<form action=\"https://store.hp.com/in-en/default/checkout/cart/add/uenc/aHR0cHM6Ly9zdG9yZS5ocC5jb20vaW4tZW4vZGVmYXVsdC9sYXB0b3BzLXRhYmxldHMvcGVyc29uYWwtbGFwdG9wcy9zdHVkZW50LWxhcHRvcHMuaHRtbA%2C%2C/product/10696/\" data-role=\"tocart-form\" data-type=\"simple\" method=\"post\">\n",
       "<input name=\"product\" type=\"hidden\" value=\"10696\"/>\n",
       "<input name=\"uenc\" type=\"hidden\" value=\"aHR0cHM6Ly9zdG9yZS5ocC5jb20vaW4tZW4vZGVmYXVsdC9jaGVja291dC9jYXJ0L2FkZC91ZW5jL2FIUjBjSE02THk5emRHOXlaUzVvY0M1amIyMHZhVzR0Wlc0dlpHVm1ZWFZzZEM5c1lYQjBiM0J6TFhSaFlteGxkSE12Y0dWeWMyOXVZV3d0YkdGd2RHOXdjeTl6ZEhWa1pXNTBMV3hoY0hSdmNITXVhSFJ0YkElMkMlMkMvcHJvZHVjdC8xMDY5Ni8,\"/>\n",
       "<input name=\"form_key\" type=\"hidden\" value=\"gSW7nlM5NRAPLZRO\"> <button class=\"action tocart primary\" data-url=\"https://store.hp.com/in-en/default/laptops/personal-laptops/student-laptops/hp-laptop-pc-15-da3001tu-242d3pa.html\" title=\"Add To Cart\" type=\"submit\">\n",
       "<span>Add To Cart</span>\n",
       "</button>\n",
       "</input></form> </div>\n",
       "<div class=\"actions-secondary\" data-role=\"add-to-links\">\n",
       "<a aria-label=\"Add to Compare\" class=\"action tocompare\" data-category-url-key=\"laptops\" data-mage-init='{\"checkComparedProduct\":{}}' data-post='{\"action\":\"https:\\/\\/store.hp.com\\/in-en\\/default\\/catalog\\/product_compare\\/add\\/\",\"data\":{\"product\":\"10696\",\"uenc\":\"aHR0cHM6Ly9zdG9yZS5ocC5jb20vaW4tZW4vZGVmYXVsdC9sYXB0b3BzLXRhYmxldHMvcGVyc29uYWwtbGFwdG9wcy9zdHVkZW50LWxhcHRvcHMuaHRtbA,,\"}}' data-product-id=\"10696\" data-role=\"compare-product\" href=\"#\" role=\"button\" title=\"Add to Compare\">\n",
       "<span>Compare</span>\n",
       "</a>\n",
       "</div>\n",
       "</div>\n",
       "</div>\n",
       "</div>"
      ]
     },
     "execution_count": 11,
     "metadata": {},
     "output_type": "execute_result"
    }
   ],
   "source": [
    "box"
   ]
  },
  {
   "cell_type": "code",
   "execution_count": 12,
   "metadata": {},
   "outputs": [],
   "source": [
    "#Step3 : Run the code and Extract the data"
   ]
  },
  {
   "cell_type": "code",
   "execution_count": 13,
   "metadata": {},
   "outputs": [],
   "source": [
    "title=box.findAll('div',{'class':'price-title'})[0].text\n",
    "price=box.findAll('span',{'class':'price'})[1].text\n",
    "rating=box.findAll('div',{'class':'bv_reviews'})\n",
    "#rating"
   ]
  },
  {
   "cell_type": "code",
   "execution_count": 14,
   "metadata": {},
   "outputs": [
    {
     "name": "stdout",
     "output_type": "stream",
     "text": [
      "Starting from \n",
      " ₹34,649 \n",
      " [<div class=\"bv_reviews\" data-bv-product-id=\"242D3PA\" data-bv-productid=\"242D3PA\" data-bv-redirect-url=\"https://store.hp.com/in-en/default/laptops/personal-laptops/student-laptops/hp-laptop-pc-15-da3001tu-242d3pa.html#bv_reviews\" data-bv-show=\"inline_rating\"></div>]\n"
     ]
    }
   ],
   "source": [
    "print(title,'\\n',price,'\\n',rating)"
   ]
  },
  {
   "cell_type": "code",
   "execution_count": 15,
   "metadata": {},
   "outputs": [],
   "source": [
    "data_list = []\n",
    "\n",
    "for box in main_box:\n",
    "    temp_dict={}\n",
    "    temp_dict['TITLE'] = box.findAll('a',{'class':'product-item-link'})[0].text\n",
    "    #temp_dict['DESCRIPTION'] = box.findAll('div',{'class':'product-desc-features'})[0].text\n",
    "    processorfamily = box.findAll('li',{'class':'processorfamily'})\n",
    "    if(len(processorfamily)>0):\n",
    "        temp_dict['processorfamily'] = box.findAll('li',{'class':'processorfamily'})[0].text\n",
    "    else:\n",
    "        temp_dict['processorfamily'] = ''\n",
    "    \n",
    "    osinstalled = box.findAll('li',{'class':'osinstalled'})\n",
    "    \n",
    "    if(len(osinstalled)>0):\n",
    "        temp_dict['osinstalled'] = box.findAll('li',{'class':'osinstalled'})[0].text\n",
    "    else:\n",
    "        temp_dict['osinstalled'] = ''\n",
    "        \n",
    "    \n",
    "    \n",
    "        \n",
    "        \n",
    "    \n",
    "   \n",
    "    price_arr = box.findAll('span',attrs={'class':'price'})\n",
    "    if(len(price_arr)>1):\n",
    "        temp_dict['PRICE'] = box.findAll('span',attrs={'class':'price'})[1].text\n",
    "    else:\n",
    "        temp_dict['PRICE'] = box.findAll('span',attrs={'class':'price'})[0].text \n",
    "        \n",
    "    \n",
    "    #temp_dict['RATING'] = box.findAll('div',{'class':'product-reviews'})[0].text\n",
    "    data_list.append(temp_dict)\n",
    "    \n",
    " "
   ]
  },
  {
   "cell_type": "code",
   "execution_count": 16,
   "metadata": {},
   "outputs": [],
   "source": [
    "df=pd.DataFrame(data_list)"
   ]
  },
  {
   "cell_type": "code",
   "execution_count": 17,
   "metadata": {},
   "outputs": [
    {
     "name": "stdout",
     "output_type": "stream",
     "text": [
      "                                                TITLE  \\\n",
      "0   \\n                                HP Laptop 15...   \n",
      "1   \\n                                HP Laptop - ...   \n",
      "2   \\n                                HP Chromeboo...   \n",
      "3   \\n                                HP Laptop 14...   \n",
      "4   \\n                                HP Chromeboo...   \n",
      "5   \\n                                HP Laptop 15...   \n",
      "6   \\n                                HP Laptop 15...   \n",
      "7   \\n                                HP Laptop 14...   \n",
      "8   \\n                                HP Notebook ...   \n",
      "9   \\n                                HP Laptop 15...   \n",
      "10  \\n                                HP Laptop - ...   \n",
      "11  \\n                                HP Notebook ...   \n",
      "\n",
      "                              processorfamily  \\\n",
      "0   10th Generation Intel® Core™ i3 processor   \n",
      "1   10th Generation Intel® Core™ i3 processor   \n",
      "2                   Intel® Celeron® processor   \n",
      "3   11th Generation Intel® Core™ i3 processor   \n",
      "4                   Intel® Celeron® processor   \n",
      "5                      AMD Ryzen™ 5 processor   \n",
      "6                      AMD Ryzen™ 5 processor   \n",
      "7   10th Generation Intel® Core™ i3 processor   \n",
      "8                      AMD Ryzen™ 3 processor   \n",
      "9   10th Generation Intel® Core™ i3 processor   \n",
      "10  10th Generation Intel® Core™ i3 processor   \n",
      "11                     AMD Ryzen™ 5 processor   \n",
      "\n",
      "                           osinstalled    PRICE  \n",
      "0                   Windows 10 Home 64  ₹34,649  \n",
      "1   Windows 10 Home Single Language 64  ₹37,999  \n",
      "2                           Chrome OS™  ₹33,499  \n",
      "3                   Windows 10 Home 64  ₹46,999  \n",
      "4                           Chrome OS™  ₹27,499  \n",
      "5   Windows 10 Home Single Language 64  ₹44,999  \n",
      "6                   Windows 10 Home 64  ₹41,579  \n",
      "7                   Windows 10 Home 64  ₹45,999  \n",
      "8   Windows 10 Home Single Language 64  ₹35,499  \n",
      "9                   Windows 10 Home 64  ₹38,519  \n",
      "10                                      ₹40,659  \n",
      "11  Windows 10 Home Single Language 64  ₹46,499  \n"
     ]
    }
   ],
   "source": [
    "print(df.head(30))"
   ]
  },
  {
   "cell_type": "code",
   "execution_count": 18,
   "metadata": {},
   "outputs": [],
   "source": [
    "df['PRICE'] = df['PRICE'].str.lstrip('₹')"
   ]
  },
  {
   "cell_type": "code",
   "execution_count": 19,
   "metadata": {
    "scrolled": true
   },
   "outputs": [
    {
     "name": "stdout",
     "output_type": "stream",
     "text": [
      "34649\n"
     ]
    },
    {
     "data": {
      "text/plain": [
       "<matplotlib.axes._subplots.AxesSubplot at 0x201105b7988>"
      ]
     },
     "execution_count": 19,
     "metadata": {},
     "output_type": "execute_result"
    },
    {
     "data": {
      "image/png": "[encoded data removed]",
      "text/plain": [
       "<Figure size 432x288 with 1 Axes>"
      ]
     },
     "metadata": {
      "needs_background": "light"
     },
     "output_type": "display_data"
    }
   ],
   "source": [
    "df['PRICE'] = df['PRICE'].replace({',':''}, regex=True)\n",
    "print(df['PRICE'][0])\n",
    "import numpy as np\n",
    "import seaborn as sns\n",
    "df['PRICE'] = df['PRICE'].astype(np.float)\n",
    "sns.boxplot(x=df['PRICE'])"
   ]
  },
  {
   "cell_type": "code",
   "execution_count": 20,
   "metadata": {},
   "outputs": [
    {
     "data": {
      "text/plain": [
       "27499.0"
      ]
     },
     "execution_count": 20,
     "metadata": {},
     "output_type": "execute_result"
    }
   ],
   "source": [
    "min(df['PRICE'])"
   ]
  },
  {
   "cell_type": "code",
   "execution_count": 23,
   "metadata": {},
   "outputs": [],
   "source": [
    "# Budget of purchase laptop between 35000 and 40000\n",
    "rslt_df = df[(df['PRICE'] > 35000) & (df['PRICE'] < 40000)] "
   ]
  },
  {
   "cell_type": "code",
   "execution_count": 24,
   "metadata": {},
   "outputs": [
    {
     "data": {
      "text/html": [
       "<div>\n",
       "<style scoped>\n",
       "    .dataframe tbody tr th:only-of-type {\n",
       "        vertical-align: middle;\n",
       "    }\n",
       "\n",
       "    .dataframe tbody tr th {\n",
       "        vertical-align: top;\n",
       "    }\n",
       "\n",
       "    .dataframe thead th {\n",
       "        text-align: right;\n",
       "    }\n",
       "</style>\n",
       "<table border=\"1\" class=\"dataframe\">\n",
       "  <thead>\n",
       "    <tr style=\"text-align: right;\">\n",
       "      <th></th>\n",
       "      <th>TITLE</th>\n",
       "      <th>processorfamily</th>\n",
       "      <th>osinstalled</th>\n",
       "      <th>PRICE</th>\n",
       "    </tr>\n",
       "  </thead>\n",
       "  <tbody>\n",
       "    <tr>\n",
       "      <th>1</th>\n",
       "      <td>\\n                                HP Laptop - ...</td>\n",
       "      <td>10th Generation Intel® Core™ i3 processor</td>\n",
       "      <td>Windows 10 Home Single Language 64</td>\n",
       "      <td>37999.0</td>\n",
       "    </tr>\n",
       "    <tr>\n",
       "      <th>8</th>\n",
       "      <td>\\n                                HP Notebook ...</td>\n",
       "      <td>AMD Ryzen™ 3 processor</td>\n",
       "      <td>Windows 10 Home Single Language 64</td>\n",
       "      <td>35499.0</td>\n",
       "    </tr>\n",
       "    <tr>\n",
       "      <th>9</th>\n",
       "      <td>\\n                                HP Laptop 15...</td>\n",
       "      <td>10th Generation Intel® Core™ i3 processor</td>\n",
       "      <td>Windows 10 Home 64</td>\n",
       "      <td>38519.0</td>\n",
       "    </tr>\n",
       "  </tbody>\n",
       "</table>\n",
       "</div>"
      ],
      "text/plain": [
       "                                               TITLE  \\\n",
       "1  \\n                                HP Laptop - ...   \n",
       "8  \\n                                HP Notebook ...   \n",
       "9  \\n                                HP Laptop 15...   \n",
       "\n",
       "                             processorfamily  \\\n",
       "1  10th Generation Intel® Core™ i3 processor   \n",
       "8                     AMD Ryzen™ 3 processor   \n",
       "9  10th Generation Intel® Core™ i3 processor   \n",
       "\n",
       "                          osinstalled    PRICE  \n",
       "1  Windows 10 Home Single Language 64  37999.0  \n",
       "8  Windows 10 Home Single Language 64  35499.0  \n",
       "9                  Windows 10 Home 64  38519.0  "
      ]
     },
     "execution_count": 24,
     "metadata": {},
     "output_type": "execute_result"
    }
   ],
   "source": [
    "rslt_df"
   ]
  },
  {
   "cell_type": "code",
   "execution_count": null,
   "metadata": {},
   "outputs": [],
   "source": [
    "##### Budget of purchase laptop between 25000 and 50000\n",
    "rslt_df = df[(df['PRICE'] > 25000) & (df['PRICE'] < 50000)] "
   ]
  },
  {
   "cell_type": "code",
   "execution_count": 26,
   "metadata": {},
   "outputs": [
    {
     "data": {
      "text/html": [
       "<div>\n",
       "<style scoped>\n",
       "    .dataframe tbody tr th:only-of-type {\n",
       "        vertical-align: middle;\n",
       "    }\n",
       "\n",
       "    .dataframe tbody tr th {\n",
       "        vertical-align: top;\n",
       "    }\n",
       "\n",
       "    .dataframe thead th {\n",
       "        text-align: right;\n",
       "    }\n",
       "</style>\n",
       "<table border=\"1\" class=\"dataframe\">\n",
       "  <thead>\n",
       "    <tr style=\"text-align: right;\">\n",
       "      <th></th>\n",
       "      <th>TITLE</th>\n",
       "      <th>processorfamily</th>\n",
       "      <th>osinstalled</th>\n",
       "      <th>PRICE</th>\n",
       "    </tr>\n",
       "  </thead>\n",
       "  <tbody>\n",
       "    <tr>\n",
       "      <th>0</th>\n",
       "      <td>\\n                                HP Laptop 15...</td>\n",
       "      <td>10th Generation Intel® Core™ i3 processor</td>\n",
       "      <td>Windows 10 Home 64</td>\n",
       "      <td>34649.0</td>\n",
       "    </tr>\n",
       "    <tr>\n",
       "      <th>1</th>\n",
       "      <td>\\n                                HP Laptop - ...</td>\n",
       "      <td>10th Generation Intel® Core™ i3 processor</td>\n",
       "      <td>Windows 10 Home Single Language 64</td>\n",
       "      <td>37999.0</td>\n",
       "    </tr>\n",
       "    <tr>\n",
       "      <th>2</th>\n",
       "      <td>\\n                                HP Chromeboo...</td>\n",
       "      <td>Intel® Celeron® processor</td>\n",
       "      <td>Chrome OS™</td>\n",
       "      <td>33499.0</td>\n",
       "    </tr>\n",
       "    <tr>\n",
       "      <th>3</th>\n",
       "      <td>\\n                                HP Laptop 14...</td>\n",
       "      <td>11th Generation Intel® Core™ i3 processor</td>\n",
       "      <td>Windows 10 Home 64</td>\n",
       "      <td>46999.0</td>\n",
       "    </tr>\n",
       "    <tr>\n",
       "      <th>4</th>\n",
       "      <td>\\n                                HP Chromeboo...</td>\n",
       "      <td>Intel® Celeron® processor</td>\n",
       "      <td>Chrome OS™</td>\n",
       "      <td>27499.0</td>\n",
       "    </tr>\n",
       "    <tr>\n",
       "      <th>5</th>\n",
       "      <td>\\n                                HP Laptop 15...</td>\n",
       "      <td>AMD Ryzen™ 5 processor</td>\n",
       "      <td>Windows 10 Home Single Language 64</td>\n",
       "      <td>44999.0</td>\n",
       "    </tr>\n",
       "    <tr>\n",
       "      <th>6</th>\n",
       "      <td>\\n                                HP Laptop 15...</td>\n",
       "      <td>AMD Ryzen™ 5 processor</td>\n",
       "      <td>Windows 10 Home 64</td>\n",
       "      <td>41579.0</td>\n",
       "    </tr>\n",
       "    <tr>\n",
       "      <th>7</th>\n",
       "      <td>\\n                                HP Laptop 14...</td>\n",
       "      <td>10th Generation Intel® Core™ i3 processor</td>\n",
       "      <td>Windows 10 Home 64</td>\n",
       "      <td>45999.0</td>\n",
       "    </tr>\n",
       "    <tr>\n",
       "      <th>8</th>\n",
       "      <td>\\n                                HP Notebook ...</td>\n",
       "      <td>AMD Ryzen™ 3 processor</td>\n",
       "      <td>Windows 10 Home Single Language 64</td>\n",
       "      <td>35499.0</td>\n",
       "    </tr>\n",
       "    <tr>\n",
       "      <th>9</th>\n",
       "      <td>\\n                                HP Laptop 15...</td>\n",
       "      <td>10th Generation Intel® Core™ i3 processor</td>\n",
       "      <td>Windows 10 Home 64</td>\n",
       "      <td>38519.0</td>\n",
       "    </tr>\n",
       "    <tr>\n",
       "      <th>10</th>\n",
       "      <td>\\n                                HP Laptop - ...</td>\n",
       "      <td>10th Generation Intel® Core™ i3 processor</td>\n",
       "      <td></td>\n",
       "      <td>40659.0</td>\n",
       "    </tr>\n",
       "    <tr>\n",
       "      <th>11</th>\n",
       "      <td>\\n                                HP Notebook ...</td>\n",
       "      <td>AMD Ryzen™ 5 processor</td>\n",
       "      <td>Windows 10 Home Single Language 64</td>\n",
       "      <td>46499.0</td>\n",
       "    </tr>\n",
       "  </tbody>\n",
       "</table>\n",
       "</div>"
      ],
      "text/plain": [
       "                                                TITLE  \\\n",
       "0   \\n                                HP Laptop 15...   \n",
       "1   \\n                                HP Laptop - ...   \n",
       "2   \\n                                HP Chromeboo...   \n",
       "3   \\n                                HP Laptop 14...   \n",
       "4   \\n                                HP Chromeboo...   \n",
       "5   \\n                                HP Laptop 15...   \n",
       "6   \\n                                HP Laptop 15...   \n",
       "7   \\n                                HP Laptop 14...   \n",
       "8   \\n                                HP Notebook ...   \n",
       "9   \\n                                HP Laptop 15...   \n",
       "10  \\n                                HP Laptop - ...   \n",
       "11  \\n                                HP Notebook ...   \n",
       "\n",
       "                              processorfamily  \\\n",
       "0   10th Generation Intel® Core™ i3 processor   \n",
       "1   10th Generation Intel® Core™ i3 processor   \n",
       "2                   Intel® Celeron® processor   \n",
       "3   11th Generation Intel® Core™ i3 processor   \n",
       "4                   Intel® Celeron® processor   \n",
       "5                      AMD Ryzen™ 5 processor   \n",
       "6                      AMD Ryzen™ 5 processor   \n",
       "7   10th Generation Intel® Core™ i3 processor   \n",
       "8                      AMD Ryzen™ 3 processor   \n",
       "9   10th Generation Intel® Core™ i3 processor   \n",
       "10  10th Generation Intel® Core™ i3 processor   \n",
       "11                     AMD Ryzen™ 5 processor   \n",
       "\n",
       "                           osinstalled    PRICE  \n",
       "0                   Windows 10 Home 64  34649.0  \n",
       "1   Windows 10 Home Single Language 64  37999.0  \n",
       "2                           Chrome OS™  33499.0  \n",
       "3                   Windows 10 Home 64  46999.0  \n",
       "4                           Chrome OS™  27499.0  \n",
       "5   Windows 10 Home Single Language 64  44999.0  \n",
       "6                   Windows 10 Home 64  41579.0  \n",
       "7                   Windows 10 Home 64  45999.0  \n",
       "8   Windows 10 Home Single Language 64  35499.0  \n",
       "9                   Windows 10 Home 64  38519.0  \n",
       "10                                      40659.0  \n",
       "11  Windows 10 Home Single Language 64  46499.0  "
      ]
     },
     "execution_count": 26,
     "metadata": {},
     "output_type": "execute_result"
    }
   ],
   "source": [
    "rslt_df"
   ]
  },
  {
   "cell_type": "code",
   "execution_count": 39,
   "metadata": {},
   "outputs": [
    {
     "data": {
      "text/plain": [
       "Text(0.5, 1.0, 'Price vs TITLE')"
      ]
     },
     "execution_count": 39,
     "metadata": {},
     "output_type": "execute_result"
    },
    {
     "data": {
      "image/png": "[encoded data removed]",
      "text/plain": [
       "<Figure size 720x504 with 1 Axes>"
      ]
     },
     "metadata": {
      "needs_background": "light"
     },
     "output_type": "display_data"
    }
   ],
   "source": [
    "# Visualizing Basic Analysis\n",
    "plt.figure(figsize=(10,7))\n",
    "sns.barplot(x=rslt_df['PRICE'],y=rslt_df['TITLE'])\n",
    "plt.title(\"Price vs TITLE\")"
   ]
  },
  {
   "cell_type": "code",
   "execution_count": 40,
   "metadata": {},
   "outputs": [
    {
     "data": {
      "text/plain": [
       "Text(0.5, 1.0, 'Boxplot')"
      ]
     },
     "execution_count": 40,
     "metadata": {},
     "output_type": "execute_result"
    },
    {
     "data": {
      "image/png": "[encoded data removed]",
      "text/plain": [
       "<Figure size 432x288 with 1 Axes>"
      ]
     },
     "metadata": {
      "needs_background": "light"
     },
     "output_type": "display_data"
    }
   ],
   "source": [
    "sns.boxplot(x=rslt_df['PRICE'])\n",
    "plt.title(\"Boxplot\")"
   ]
  },
  {
   "cell_type": "code",
   "execution_count": null,
   "metadata": {},
   "outputs": [],
   "source": [
    "#Thank You"
   ]
  }
 ],
 "metadata": {
  "kernelspec": {
   "display_name": "Python 3",
   "language": "python",
   "name": "python3"
  },
  "language_info": {
   "codemirror_mode": {
    "name": "ipython",
    "version": 3
   },
   "file_extension": ".py",
   "mimetype": "text/x-python",
   "name": "python",
   "nbconvert_exporter": "python",
   "pygments_lexer": "ipython3",
   "version": "3.7.6"
  }
 },
 "nbformat": 4,
 "nbformat_minor": 4
}
